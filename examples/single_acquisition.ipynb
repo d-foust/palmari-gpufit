{
 "cells": [
  {
   "cell_type": "code",
   "execution_count": 1,
   "metadata": {},
   "outputs": [],
   "source": [
    "%load_ext autoreload\n",
    "%autoreload 2\n",
    "from palmari import Acquisition, Experiment, TifPipeline\n",
    "import tifffile"
   ]
  },
  {
   "cell_type": "code",
   "execution_count": 2,
   "metadata": {},
   "outputs": [],
   "source": [
    "exp = Experiment(data_folder=\"/Users/hverdier/Desktop/exemples_mifobio/short_only/\",export_folder=\"/Users/hverdier/Desktop/example_export/\")"
   ]
  },
  {
   "cell_type": "code",
   "execution_count": 3,
   "metadata": {},
   "outputs": [
    {
     "name": "stdout",
     "output_type": "stream",
     "text": [
      "TIF Processing pipeline\n",
      "-----------------------\n",
      "Movie preprocessing steps :\n",
      "-----------------------\n",
      "Localizer :\n",
      "\t MTT (quot) localizer (MTTLocalizer) :\n",
      "\t\t detect_params : {'method': 'llr', 'k': 1.5, 'w': 21, 't': 16.0}\n",
      "\t\t loc_params : {'method': 'ls_int_gaussian', 'window_size': 9, 'sigma': 1.5, 'ridge': 0.0001, 'convergence': 0.0001, 'divergence': 1.0, 'max_iter': 10, 'damp': 0.3, 'camera_bg': 0.0, 'camera_gain': 1.0}\n",
      "\n",
      "-----------------------\n",
      "Localization processing steps :\n",
      "-----------------------\n",
      "Tracker :\n",
      "\t MTT tracker (MTTTracker) :\n",
      "\t\t max_diffusivity : 5.0\n",
      "\n",
      "\n"
     ]
    }
   ],
   "source": [
    "tp = TifPipeline.from_dict({\"name\":\"MTT\",\"localizer\":{\"MTTLocalizer\":{}},\"tracker\":{\"MTTTracker\":{}}})\n",
    "print(tp)"
   ]
  },
  {
   "cell_type": "code",
   "execution_count": 9,
   "metadata": {},
   "outputs": [],
   "source": [
    "acq = Acquisition(exp[0],exp,tp)"
   ]
  },
  {
   "cell_type": "code",
   "execution_count": 8,
   "metadata": {},
   "outputs": [],
   "source": [
    "tp.process(exp)"
   ]
  },
  {
   "cell_type": "code",
   "execution_count": 11,
   "metadata": {},
   "outputs": [
    {
     "data": {
      "text/plain": [
       "<palmari.processing.tif_pipeline.TifPipeline at 0x7fe773136a90>"
      ]
     },
     "execution_count": 11,
     "metadata": {},
     "output_type": "execute_result"
    }
   ],
   "source": [
    "tp"
   ]
  },
  {
   "cell_type": "code",
   "execution_count": null,
   "metadata": {},
   "outputs": [],
   "source": []
  },
  {
   "cell_type": "code",
   "execution_count": null,
   "metadata": {},
   "outputs": [],
   "source": []
  }
 ],
 "metadata": {
  "kernelspec": {
   "display_name": "Python 3.8.13 ('gratin')",
   "language": "python",
   "name": "python3"
  },
  "language_info": {
   "codemirror_mode": {
    "name": "ipython",
    "version": 3
   },
   "file_extension": ".py",
   "mimetype": "text/x-python",
   "name": "python",
   "nbconvert_exporter": "python",
   "pygments_lexer": "ipython3",
   "version": "3.8.13"
  },
  "orig_nbformat": 4,
  "vscode": {
   "interpreter": {
    "hash": "78c676025f604cefd5cc7247c25d6a69f3ae1d56212e75cdfaf6888587dffc1d"
   }
  }
 },
 "nbformat": 4,
 "nbformat_minor": 2
}
