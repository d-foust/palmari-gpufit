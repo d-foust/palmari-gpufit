{
    "cells": [
        {
            "cell_type": "code",
            "execution_count": 11,
            "metadata": {},
            "outputs": [
                {
                    "name": "stdout",
                    "output_type": "stream",
                    "text": [
                        "The autoreload extension is already loaded. To reload it, use:\n",
                        "  %reload_ext autoreload\n"
                    ]
                }
            ],
            "source": [
                "%load_ext autoreload\n",
                "%autoreload 2\n",
                "from palmari import Acquisition, Experiment, ImagePipeline, ImagePipelineWidget\n",
                "from palmari.processing.steps import *\n",
                "import tifffile"
            ]
        },
        {
            "cell_type": "code",
            "execution_count": 12,
            "metadata": {},
            "outputs": [],
            "source": [
                "exp = Experiment(\n",
                "    data_folder=\"/Users/hverdier/Desktop/exemples_mifobio/short_only/\",\n",
                "    export_folder=\"/Users/hverdier/Desktop/example_export/\")"
            ]
        },
        {
            "cell_type": "code",
            "execution_count": 13,
            "metadata": {},
            "outputs": [
                {
                    "data": {
                        "text/plain": [
                            "'*.tif'"
                        ]
                    },
                    "execution_count": 13,
                    "metadata": {},
                    "output_type": "execute_result"
                }
            ],
            "source": [
                "exp.file_pattern"
            ]
        },
        {
            "cell_type": "code",
            "execution_count": 16,
            "metadata": {},
            "outputs": [
                {
                    "name": "stdout",
                    "output_type": "stream",
                    "text": [
                        "TIF Processing pipeline\n",
                        "-----------------------\n",
                        "Movie preprocessing steps :\n",
                        "-----------------------\n",
                        "Detector :\n",
                        "\t MTT detector (BaseDetector) :\n",
                        "\t\t k : 1.5\n",
                        "\t\t w : 21\n",
                        "\t\t t : 1.0\n",
                        "\n",
                        "-----------------------\n",
                        "Localizer :\n",
                        "\t MTT subpixel localizer (MaxLikelihoodLocalizer) :\n",
                        "\t\t _loc_params : {'ridge': 0.0001, 'convergence': 0.0001, 'divergence': 1.0, 'max_iter': 10, 'damp': 0.3, 'camera_bg': 0.0, 'camera_gain': 1.0}\n",
                        "\t\t method : ls_int_gaussian\n",
                        "\t\t window_size : 9\n",
                        "\t\t sigma : 1.5\n",
                        "\n",
                        "-----------------------\n",
                        "Localization processing steps :\n",
                        "-----------------------\n",
                        "Tracker :\n",
                        "\t MTT Euclidean tracker (EuclideanTracker) :\n",
                        "\t\t max_diffusivity : 5.0\n",
                        "\t\t init_cost : 50.0\n",
                        "\t\t scale : 1.0\n",
                        "\n",
                        "\n"
                    ]
                }
            ],
            "source": [
                "tp = ImagePipeline.from_dict({\n",
                "    \"name\":\"MTT\",\n",
                "    \"localizer\":{\"MaxLikelihoodLocalizer\":{}},\n",
                "    \"tracker\":{\"EuclideanTracker\":{}}})\n",
                "print(tp)\n",
                "tp.to_yaml(\"/Users/hverdier/Desktop/exemples_mifobio/short_only/pipeline.yaml\")"
            ]
        },
        {
            "cell_type": "code",
            "execution_count": 17,
            "metadata": {},
            "outputs": [
                {
                    "data": {
                        "text/plain": [
                            "{'name': 'MTT',\n",
                            " 'detector': {'BaseDetector': {'k': 1.5, 'w': 21, 't': 1.0}},\n",
                            " 'localizer': {'MaxLikelihoodLocalizer': {'method': 'ls_int_gaussian',\n",
                            "   'window_size': 9,\n",
                            "   'sigma': 1.5}},\n",
                            " 'tracker': {'EuclideanTracker': {'max_diffusivity': 5.0,\n",
                            "   'init_cost': 50.0,\n",
                            "   'scale': 1.0}}}"
                        ]
                    },
                    "execution_count": 17,
                    "metadata": {},
                    "output_type": "execute_result"
                }
            ],
            "source": [
                "tp.to_dict()"
            ]
        },
        {
            "cell_type": "code",
            "execution_count": 5,
            "metadata": {},
            "outputs": [
                {
                    "data": {
                        "text/plain": [
                            "'1_short.tif'"
                        ]
                    },
                    "execution_count": 5,
                    "metadata": {},
                    "output_type": "execute_result"
                }
            ],
            "source": [
                "exp[0]"
            ]
        },
        {
            "cell_type": "code",
            "execution_count": 19,
            "metadata": {},
            "outputs": [],
            "source": [
                "acq = Acquisition(exp[0],exp,tp)"
            ]
        },
        {
            "cell_type": "code",
            "execution_count": 20,
            "metadata": {},
            "outputs": [
                {
                    "name": "stdout",
                    "output_type": "stream",
                    "text": [
                        "[########################################] | 100% Completed |  1.9s\n",
                        "[########################################] | 100% Completed |  8.3s\n"
                    ]
                }
            ],
            "source": [
                "tp.process(exp, force_reprocess=True)"
            ]
        },
        {
            "cell_type": "code",
            "execution_count": 21,
            "metadata": {},
            "outputs": [
                {
                    "name": "stderr",
                    "output_type": "stream",
                    "text": [
                        "/Users/hverdier/opt/miniconda3/envs/gratin/lib/python3.8/site-packages/numpy/core/numeric.py:2446: FutureWarning: elementwise comparison failed; returning scalar instead, but in the future will perform elementwise comparison\n",
                        "  return bool(asarray(a1 == a2).all())\n",
                        "/Users/hverdier/opt/miniconda3/envs/gratin/lib/python3.8/site-packages/numpy/core/numeric.py:2446: FutureWarning: elementwise comparison failed; returning scalar instead, but in the future will perform elementwise comparison\n",
                        "  return bool(asarray(a1 == a2).all())\n",
                        "/Users/hverdier/opt/miniconda3/envs/gratin/lib/python3.8/site-packages/numpy/core/numeric.py:2446: FutureWarning: elementwise comparison failed; returning scalar instead, but in the future will perform elementwise comparison\n",
                        "  return bool(asarray(a1 == a2).all())\n"
                    ]
                },
                {
                    "name": "stdout",
                    "output_type": "stream",
                    "text": [
                        "TIF Processing pipeline\n",
                        "-----------------------\n",
                        "Movie preprocessing steps :\n",
                        "1/1 \t Local percentile filtering (WindowPercentileFilter) :\n",
                        "\t\t percentile : 3.0\n",
                        "\t\t window_size : 100\n",
                        "\n",
                        "-----------------------\n",
                        "Detector :\n",
                        "\t MTT detector (BaseDetector) :\n",
                        "\t\t k : 1.5\n",
                        "\t\t w : 21\n",
                        "\t\t t : 1.0\n",
                        "\n",
                        "-----------------------\n",
                        "Localizer :\n",
                        "\t MTT subpixel localizer (MaxLikelihoodLocalizer) :\n",
                        "\t\t loc_params : {'ridge': 0.0001, 'convergence': 0.0001, 'divergence': 1.0, 'max_iter': 10, 'damp': 0.3, 'camera_bg': 0.0, 'camera_gain': 1.0}\n",
                        "\t\t method : ls_int_gaussian\n",
                        "\t\t window_size : 9\n",
                        "\t\t sigma : 1.5\n",
                        "\n",
                        "-----------------------\n",
                        "Localization processing steps :\n",
                        "- 1/1 \t Drift corrector (DriftCorrector) :\n",
                        "\t\t min_n_locs_per_bin : 10000\n",
                        "\t\t max_n_bins : 20\n",
                        "\n",
                        "-----------------------\n",
                        "Tracker :\n",
                        "\t Default tracker (Trackpy) (ConservativeTracker) :\n",
                        "\t\t max_diffusivity : 5.0\n",
                        "\n",
                        "\n"
                    ]
                }
            ],
            "source": [
                "acq.view()"
            ]
        },
        {
            "cell_type": "code",
            "execution_count": 22,
            "metadata": {},
            "outputs": [
                {
                    "name": "stderr",
                    "output_type": "stream",
                    "text": [
                        "Traceback (most recent call last):\n",
                        "  File \"/Users/hverdier/opt/miniconda3/envs/gratin/lib/python3.8/site-packages/superqt/utils/_qthreading.py\", line 616, in reraise\n",
                        "    raise e\n",
                        "  File \"/Users/hverdier/opt/miniconda3/envs/gratin/lib/python3.8/site-packages/superqt/utils/_qthreading.py\", line 176, in run\n",
                        "    result = self.work()\n",
                        "  File \"/Users/hverdier/opt/miniconda3/envs/gratin/lib/python3.8/site-packages/superqt/utils/_qthreading.py\", line 356, in work\n",
                        "    return self._func(*self._args, **self._kwargs)\n",
                        "  File \"/Users/hverdier/palmari/src/palmari/processing/image_pipeline_widget.py\", line 474, in run_step\n",
                        "    assert input_layer_idx in self._layers\n",
                        "AssertionError\n"
                    ]
                },
                {
                    "name": "stdout",
                    "output_type": "stream",
                    "text": [
                        "[########################################] | 100% Completed |  2.6s\n"
                    ]
                },
                {
                    "name": "stderr",
                    "output_type": "stream",
                    "text": [
                        "/Users/hverdier/opt/miniconda3/envs/gratin/lib/python3.8/site-packages/numpy/core/numeric.py:2446: FutureWarning: elementwise comparison failed; returning scalar instead, but in the future will perform elementwise comparison\n",
                        "  return bool(asarray(a1 == a2).all())\n"
                    ]
                },
                {
                    "name": "stdout",
                    "output_type": "stream",
                    "text": [
                        "[########################################] | 100% Completed | 14.8s\n"
                    ]
                },
                {
                    "name": "stderr",
                    "output_type": "stream",
                    "text": [
                        "/Users/hverdier/opt/miniconda3/envs/gratin/lib/python3.8/site-packages/numpy/core/numeric.py:2446: FutureWarning: elementwise comparison failed; returning scalar instead, but in the future will perform elementwise comparison\n",
                        "  return bool(asarray(a1 == a2).all())\n"
                    ]
                }
            ],
            "source": [
                "ImagePipelineWidget.view_pipeline(tp, acq)"
            ]
        },
        {
            "cell_type": "code",
            "execution_count": 35,
            "metadata": {},
            "outputs": [],
            "source": [
                "detection_methods_dict = {\n",
                "    \"log\": \"Laplacian of Gaussians\",\n",
                "    \"llr\": \"Likelihood ratio\",\n",
                "}\n",
                "detection_methods = Enum(\"methods\", detection_methods_dict)"
            ]
        },
        {
            "cell_type": "code",
            "execution_count": 45,
            "metadata": {},
            "outputs": [
                {
                    "data": {
                        "text/plain": [
                            "<methods.llr: 'Likelihood ratio'>"
                        ]
                    },
                    "execution_count": 45,
                    "metadata": {},
                    "output_type": "execute_result"
                }
            ],
            "source": [
                "detection_methods.llr"
            ]
        },
        {
            "cell_type": "code",
            "execution_count": 43,
            "metadata": {},
            "outputs": [
                {
                    "name": "stdout",
                    "output_type": "stream",
                    "text": [
                        "__ TIF Processing pipeline\n",
                        "-----------------------\n",
                        "Movie preprocessing steps :\n",
                        "-----------------------\n",
                        "Detector :\n",
                        "\t MTT detector (BaseDetector) :\n",
                        "\t\t k : 1.5\n",
                        "\t\t w : 21\n",
                        "\t\t t : 1.0\n",
                        "\n",
                        "-----------------------\n",
                        "Localizer :\n",
                        "\t MTT subpixel localizer (MaxLikelihoodLocalizer) :\n",
                        "\t\t loc_params : {'ridge': 0.0001, 'convergence': 0.0001, 'divergence': 1.0, 'max_iter': 10, 'damp': 0.3, 'camera_bg': 0.0, 'camera_gain': 1.0}\n",
                        "\t\t method : ls_int_gaussian\n",
                        "\t\t window_size : 9\n",
                        "\t\t sigma : 1.5\n",
                        "\n",
                        "-----------------------\n",
                        "Localization processing steps :\n",
                        "-----------------------\n",
                        "Tracker :\n",
                        "\t MTT Euclidean tracker (EuclideanTracker) :\n",
                        "\t\t max_diffusivity : 5.0\n",
                        "\t\t init_cost : 50.0\n",
                        "\t\t scale : 1.0\n",
                        "\n",
                        "\n",
                        "tp TIF Processing pipeline\n",
                        "-----------------------\n",
                        "Movie preprocessing steps :\n",
                        "-----------------------\n",
                        "Detector :\n",
                        "\t MTT detector (BaseDetector) :\n",
                        "\t\t k : 1.5\n",
                        "\t\t w : 21\n",
                        "\t\t t : 1.0\n",
                        "\n",
                        "-----------------------\n",
                        "Localizer :\n",
                        "\t MTT subpixel localizer (MaxLikelihoodLocalizer) :\n",
                        "\t\t loc_params : {'ridge': 0.0001, 'convergence': 0.0001, 'divergence': 1.0, 'max_iter': 10, 'damp': 0.3, 'camera_bg': 0.0, 'camera_gain': 1.0}\n",
                        "\t\t method : ls_int_gaussian\n",
                        "\t\t window_size : 9\n",
                        "\t\t sigma : 1.5\n",
                        "\n",
                        "-----------------------\n",
                        "Localization processing steps :\n",
                        "-----------------------\n",
                        "Tracker :\n",
                        "\t MTT Euclidean tracker (EuclideanTracker) :\n",
                        "\t\t max_diffusivity : 5.0\n",
                        "\t\t init_cost : 50.0\n",
                        "\t\t scale : 1.0\n",
                        "\n",
                        "\n",
                        "_33 TIF Processing pipeline\n",
                        "-----------------------\n",
                        "Movie preprocessing steps :\n",
                        "-----------------------\n",
                        "Detector :\n",
                        "\t MTT detector (BaseDetector) :\n",
                        "\t\t k : 1.5\n",
                        "\t\t w : 21\n",
                        "\t\t t : 1.0\n",
                        "\n",
                        "-----------------------\n",
                        "Localizer :\n",
                        "\t MTT subpixel localizer (MaxLikelihoodLocalizer) :\n",
                        "\t\t loc_params : {'ridge': 0.0001, 'convergence': 0.0001, 'divergence': 1.0, 'max_iter': 10, 'damp': 0.3, 'camera_bg': 0.0, 'camera_gain': 1.0}\n",
                        "\t\t method : ls_int_gaussian\n",
                        "\t\t window_size : 9\n",
                        "\t\t sigma : 1.5\n",
                        "\n",
                        "-----------------------\n",
                        "Localization processing steps :\n",
                        "-----------------------\n",
                        "Tracker :\n",
                        "\t MTT Euclidean tracker (EuclideanTracker) :\n",
                        "\t\t max_diffusivity : 5.0\n",
                        "\t\t init_cost : 50.0\n",
                        "\t\t scale : 1.0\n",
                        "\n",
                        "\n"
                    ]
                }
            ],
            "source": [
                "all_globals = globals().items()\n",
                "for c, v in all_globals:\n",
                "    if isinstance(v,ImagePipeline):\n",
                "        "
            ]
        },
        {
            "cell_type": "code",
            "execution_count": 40,
            "metadata": {},
            "outputs": [
                {
                    "data": {
                        "text/plain": [
                            "True"
                        ]
                    },
                    "execution_count": 40,
                    "metadata": {},
                    "output_type": "execute_result"
                }
            ],
            "source": [
                "isinstance(tp,ImagePipeline)"
            ]
        },
        {
            "cell_type": "code",
            "execution_count": 67,
            "metadata": {},
            "outputs": [
                {
                    "name": "stderr",
                    "output_type": "stream",
                    "text": [
                        "[autoreload of palmari.processing.image_pipeline failed: Traceback (most recent call last):\n",
                        "  File \"/Users/hverdier/opt/miniconda3/envs/gratin/lib/python3.8/site-packages/IPython/extensions/autoreload.py\", line 257, in check\n",
                        "    superreload(m, reload, self.old_objects)\n",
                        "  File \"/Users/hverdier/opt/miniconda3/envs/gratin/lib/python3.8/site-packages/IPython/extensions/autoreload.py\", line 455, in superreload\n",
                        "    module = reload(module)\n",
                        "  File \"/Users/hverdier/opt/miniconda3/envs/gratin/lib/python3.8/importlib/__init__.py\", line 169, in reload\n",
                        "    _bootstrap._exec(spec, module)\n",
                        "  File \"<frozen importlib._bootstrap>\", line 604, in _exec\n",
                        "  File \"<frozen importlib._bootstrap_external>\", line 839, in exec_module\n",
                        "  File \"<frozen importlib._bootstrap_external>\", line 976, in get_code\n",
                        "  File \"<frozen importlib._bootstrap_external>\", line 906, in source_to_code\n",
                        "  File \"<frozen importlib._bootstrap>\", line 219, in _call_with_frames_removed\n",
                        "  File \"/Users/hverdier/palmari/src/palmari/processing/image_pipeline.py\", line 145\n",
                        "    if issubclass(obj, SubpixelLocalizer) and obj is not SubpixelLocalizer\n",
                        "                                                                         ^\n",
                        "SyntaxError: invalid syntax\n",
                        "]\n"
                    ]
                }
            ],
            "source": [
                "del tp._available_steps"
            ]
        },
        {
            "cell_type": "code",
            "execution_count": 68,
            "metadata": {},
            "outputs": [
                {
                    "data": {
                        "text/plain": [
                            "{'localizer': [('MaxLikelihoodLocalizer',\n",
                            "   palmari.processing.steps.quot_localizer.MaxLikelihoodLocalizer)],\n",
                            " 'detector': [],\n",
                            " 'loc_processors': [],\n",
                            " 'tracker': [],\n",
                            " 'movie_preprocessors': []}"
                        ]
                    },
                    "execution_count": 68,
                    "metadata": {},
                    "output_type": "execute_result"
                }
            ],
            "source": [
                "tp.available_steps"
            ]
        },
        {
            "cell_type": "code",
            "execution_count": null,
            "metadata": {},
            "outputs": [],
            "source": []
        },
        {
            "cell_type": "code",
            "execution_count": 54,
            "metadata": {},
            "outputs": [
                {
                    "data": {
                        "text/plain": [
                            "True"
                        ]
                    },
                    "execution_count": 54,
                    "metadata": {},
                    "output_type": "execute_result"
                }
            ],
            "source": [
                "isinstance(tp.localizer, SubpixelLocalizer)"
            ]
        },
        {
            "cell_type": "code",
            "execution_count": null,
            "metadata": {},
            "outputs": [],
            "source": []
        }
    ],
    "metadata": {
        "kernelspec": {
            "display_name": "Python 3.8.13 ('gratin')",
            "language": "python",
            "name": "python3"
        },
        "language_info": {
            "codemirror_mode": {
                "name": "ipython",
                "version": 3
            },
            "file_extension": ".py",
            "mimetype": "text/x-python",
            "name": "python",
            "nbconvert_exporter": "python",
            "pygments_lexer": "ipython3",
            "version": "3.8.13"
        },
        "orig_nbformat": 4,
        "vscode": {
            "interpreter": {
                "hash": "78c676025f604cefd5cc7247c25d6a69f3ae1d56212e75cdfaf6888587dffc1d"
            }
        }
    },
    "nbformat": 4,
    "nbformat_minor": 2
}