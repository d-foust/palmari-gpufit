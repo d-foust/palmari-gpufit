{
    "cells": [
        {
            "cell_type": "code",
            "execution_count": 1,
            "metadata": {},
            "outputs": [],
            "source": [
                "%load_ext autoreload\n",
                "%autoreload 2\n",
                "import tifffile\n",
                "import numpy as np\n",
                "import matplotlib.pyplot as plt\n",
                "from skimage.filters import gaussian\n",
                "from dask_image.ndfilters import gaussian_filter\n",
                "from dask_image.imread import imread\n",
                "from palmari.processing.steps import BaseDetector\n",
                "from palmari import TifPipeline, Acquisition, Experiment"
            ]
        },
        {
            "cell_type": "code",
            "execution_count": 2,
            "metadata": {},
            "outputs": [],
            "source": [
                "#f = tifffile.imread(\"/Users/hverdier/Desktop/EOSGag_002.tif\")\n",
                "#tifffile.imwrite(\"/Users/hverdier/Desktop/EOSGag_short_002.tif\",f[:1000])"
            ]
        },
        {
            "cell_type": "code",
            "execution_count": 3,
            "metadata": {},
            "outputs": [],
            "source": [
                "img = imread(\"/Users/hverdier/Desktop/test_palmari/EOSGag_short_002.tif\")\n",
                "f_img = gaussian_filter(img,sigma=(100,2,2),mode=\"nearest\")"
            ]
        },
        {
            "cell_type": "code",
            "execution_count": 4,
            "metadata": {},
            "outputs": [
                {
                    "data": {
                        "image/png": "[encoded data removed]",
                        "text/plain": [
                            "<Figure size 432x288 with 1 Axes>"
                        ]
                    },
                    "metadata": {
                        "needs_background": "light"
                    },
                    "output_type": "display_data"
                }
            ],
            "source": [
                "plt.hist(np.reshape(img.compute(),(-1)),bins=50)\n",
                "plt.hist(np.reshape(f_img.compute(),(-1)),bins=50)\n",
                "plt.yscale(\"log\")"
            ]
        },
        {
            "cell_type": "code",
            "execution_count": 38,
            "metadata": {},
            "outputs": [],
            "source": [
                "tp = TifPipeline.from_yaml(\"/Users/hverdier/Desktop/drift_corr\")"
            ]
        },
        {
            "cell_type": "code",
            "execution_count": 39,
            "metadata": {},
            "outputs": [],
            "source": [
                "#exp = Experiment.from_single_tif(\"/Users/hverdier/Desktop/test_palmari/EOSGag_short_002.tif\",\"/Users/hverdier/Desktop/test_palmari\")\n",
                "exp = Experiment.from_single_tif(\"/Users/hverdier/Desktop/test_palmari_long/EOSGag_002.tif\",\"/Users/hverdier/Desktop/test_palmari_long\")"
            ]
        },
        {
            "cell_type": "code",
            "execution_count": 40,
            "metadata": {},
            "outputs": [
                {
                    "data": {
                        "text/plain": [
                            "0.097"
                        ]
                    },
                    "execution_count": 40,
                    "metadata": {},
                    "output_type": "execute_result"
                }
            ],
            "source": [
                "exp.pixel_size"
            ]
        },
        {
            "cell_type": "code",
            "execution_count": 43,
            "metadata": {},
            "outputs": [
                {
                    "name": "stdout",
                    "output_type": "stream",
                    "text": [
                        "Frame 3999: 29 trajectories present.\n"
                    ]
                },
                {
                    "data": {
                        "image/png": "[encoded data removed]",
                        "text/plain": [
                            "<Figure size 432x288 with 1 Axes>"
                        ]
                    },
                    "metadata": {
                        "needs_background": "light"
                    },
                    "output_type": "display_data"
                }
            ],
            "source": [
                "tp.process(exp, force_reprocess=True)"
            ]
        },
        {
            "cell_type": "code",
            "execution_count": 44,
            "metadata": {},
            "outputs": [
                {
                    "name": "stdout",
                    "output_type": "stream",
                    "text": [
                        "EOSGag_001.tif\n"
                    ]
                }
            ],
            "source": [
                "for f in exp:\n",
                "    print(f)\n",
                "    acq = Acquisition(f, exp, tp)"
            ]
        },
        {
            "cell_type": "code",
            "execution_count": 45,
            "metadata": {},
            "outputs": [],
            "source": [
                "acq.view(min_traj_length=5)"
            ]
        },
        {
            "cell_type": "code",
            "execution_count": 37,
            "metadata": {},
            "outputs": [
                {
                    "data": {
                        "image/png": "[encoded data removed]",
                        "text/plain": [
                            "<Figure size 432x288 with 1 Axes>"
                        ]
                    },
                    "metadata": {
                        "needs_background": "light"
                    },
                    "output_type": "display_data"
                }
            ],
            "source": [
                "plt.hist(acq.locs.bg)\n",
                "plt.yscale(\"log\")"
            ]
        },
        {
            "cell_type": "code",
            "execution_count": 36,
            "metadata": {},
            "outputs": [
                {
                    "data": {
                        "image/png": "[encoded data removed]",
                        "text/plain": [
                            "<Figure size 432x288 with 1 Axes>"
                        ]
                    },
                    "metadata": {
                        "needs_background": "light"
                    },
                    "output_type": "display_data"
                }
            ],
            "source": [
                "plt.hist(acq.locs.I0)\n",
                "plt.yscale(\"log\")"
            ]
        },
        {
            "cell_type": "code",
            "execution_count": 8,
            "metadata": {},
            "outputs": [
                {
                    "ename": "NameError",
                    "evalue": "name 'img_gaussian' is not defined",
                    "output_type": "error",
                    "traceback": [
                        "\u001b[0;31m---------------------------------------------------------------------------\u001b[0m",
                        "\u001b[0;31mNameError\u001b[0m                                 Traceback (most recent call last)",
                        "\u001b[1;32m/Users/hverdier/palmari/examples/drift_bead.ipynb Cellule 9\u001b[0m in \u001b[0;36m<cell line: 1>\u001b[0;34m()\u001b[0m\n\u001b[0;32m----> <a href='vscode-notebook-cell:/Users/hverdier/palmari/examples/drift_bead.ipynb#X13sZmlsZQ%3D%3D?line=0'>1</a>\u001b[0m img_gaussian\u001b[39m.\u001b[39mshape\n",
                        "\u001b[0;31mNameError\u001b[0m: name 'img_gaussian' is not defined"
                    ]
                }
            ],
            "source": [
                "img_gaussian.shape"
            ]
        },
        {
            "cell_type": "code",
            "execution_count": null,
            "metadata": {},
            "outputs": [],
            "source": [
                "plt.imshow(img_gaussian[0])"
            ]
        },
        {
            "cell_type": "code",
            "execution_count": null,
            "metadata": {},
            "outputs": [],
            "source": [
                "plt.hist(np.reshape(img,(-1,)))\n",
                "plt.yscale(\"log\")"
            ]
        },
        {
            "cell_type": "code",
            "execution_count": null,
            "metadata": {},
            "outputs": [],
            "source": [
                "plt.imshow(img[1])"
            ]
        },
        {
            "cell_type": "code",
            "execution_count": null,
            "metadata": {},
            "outputs": [],
            "source": []
        },
        {
            "cell_type": "code",
            "execution_count": null,
            "metadata": {},
            "outputs": [],
            "source": [
                "plt.hist(np.reshape(np.mean(img,axis=0),(-1,)))\n",
                "plt.yscale(\"log\")"
            ]
        },
        {
            "cell_type": "code",
            "execution_count": null,
            "metadata": {},
            "outputs": [],
            "source": [
                "plt.imshow(np.mean(img,axis=0))"
            ]
        },
        {
            "cell_type": "code",
            "execution_count": null,
            "metadata": {},
            "outputs": [],
            "source": []
        }
    ],
    "metadata": {
        "kernelspec": {
            "display_name": "Python 3.8.13 ('gratin')",
            "language": "python",
            "name": "python3"
        },
        "language_info": {
            "codemirror_mode": {
                "name": "ipython",
                "version": 3
            },
            "file_extension": ".py",
            "mimetype": "text/x-python",
            "name": "python",
            "nbconvert_exporter": "python",
            "pygments_lexer": "ipython3",
            "version": "3.8.13"
        },
        "orig_nbformat": 4,
        "vscode": {
            "interpreter": {
                "hash": "78c676025f604cefd5cc7247c25d6a69f3ae1d56212e75cdfaf6888587dffc1d"
            }
        }
    },
    "nbformat": 4,
    "nbformat_minor": 2
}