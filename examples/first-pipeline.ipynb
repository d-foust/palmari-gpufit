{
    "cells": [
        {
            "cell_type": "code",
            "execution_count": 2,
            "metadata": {},
            "outputs": [],
            "source": [
                "%load_ext autoreload\n",
                "%autoreload 2\n",
                "from palmari.processing import *\n",
                "from palmari import Experiment, TifPipelineWidget\n",
                "%matplotlib inline\n",
                "%config InlineBackend.figure_format = 'retina'"
            ]
        },
        {
            "cell_type": "markdown",
            "metadata": {},
            "source": [
                "# Your first Experiment"
            ]
        },
        {
            "cell_type": "code",
            "execution_count": 3,
            "metadata": {},
            "outputs": [],
            "source": [
                "exp = Experiment(data_folder=\"/Users/hverdier/palm_tools_data/DATA_FOLDER\",\n",
                "    export_folder=\"/Users/hverdier/palm_tools_data/EXPORT_FOLDER\")"
            ]
        },
        {
            "cell_type": "code",
            "execution_count": 4,
            "metadata": {},
            "outputs": [],
            "source": [
                "# Indicate conditions in the index_df table of the Experiment\n",
                "# This can be done automatically if you create a subclass of Experiment (see below)\n",
                "exp.index_df[\"condition\"] = \"A\"\n",
                "exp.index_df.loc[exp.index_df.file.str.contains(\"B\"),\"condition\"] = \"B\""
            ]
        },
        {
            "cell_type": "code",
            "execution_count": 5,
            "metadata": {},
            "outputs": [
                {
                    "data": {
                        "text/html": [
                            "<div>\n",
                            "<style scoped>\n",
                            "    .dataframe tbody tr th:only-of-type {\n",
                            "        vertical-align: middle;\n",
                            "    }\n",
                            "\n",
                            "    .dataframe tbody tr th {\n",
                            "        vertical-align: top;\n",
                            "    }\n",
                            "\n",
                            "    .dataframe thead th {\n",
                            "        text-align: right;\n",
                            "    }\n",
                            "</style>\n",
                            "<table border=\"1\" class=\"dataframe\">\n",
                            "  <thead>\n",
                            "    <tr style=\"text-align: right;\">\n",
                            "      <th></th>\n",
                            "      <th>file</th>\n",
                            "      <th>ID</th>\n",
                            "      <th>condition</th>\n",
                            "    </tr>\n",
                            "  </thead>\n",
                            "  <tbody>\n",
                            "    <tr>\n",
                            "      <th>0</th>\n",
                            "      <td>CONDITION A/Experience1/CellZone1/ROI.tif</td>\n",
                            "      <td>4c673d7a3babf12f</td>\n",
                            "      <td>A</td>\n",
                            "    </tr>\n",
                            "    <tr>\n",
                            "      <th>1</th>\n",
                            "      <td>CONDITION A/Experience1/CellZone0/ROI.tif</td>\n",
                            "      <td>0a4f0c4d5a770f14</td>\n",
                            "      <td>A</td>\n",
                            "    </tr>\n",
                            "    <tr>\n",
                            "      <th>2</th>\n",
                            "      <td>CONDITION A/Experience0/CellZone2/ROI.tif</td>\n",
                            "      <td>1aeb07e6d906fa6d</td>\n",
                            "      <td>A</td>\n",
                            "    </tr>\n",
                            "    <tr>\n",
                            "      <th>3</th>\n",
                            "      <td>CONDITION A/Experience0/CellZone1/ROI.tif</td>\n",
                            "      <td>272126b5e72b50a4</td>\n",
                            "      <td>A</td>\n",
                            "    </tr>\n",
                            "    <tr>\n",
                            "      <th>4</th>\n",
                            "      <td>CONDITION A/Experience0/CellZone0/ROI#0.tif</td>\n",
                            "      <td>e050273c2b28d429</td>\n",
                            "      <td>A</td>\n",
                            "    </tr>\n",
                            "    <tr>\n",
                            "      <th>5</th>\n",
                            "      <td>CONDITION B/Exp0/cellZone2/ROI#0.tif</td>\n",
                            "      <td>448d0bb5d719692d</td>\n",
                            "      <td>B</td>\n",
                            "    </tr>\n",
                            "    <tr>\n",
                            "      <th>6</th>\n",
                            "      <td>CONDITION B/Exp0/cellZone1/ROI.tif</td>\n",
                            "      <td>22ec7db7a6a63186</td>\n",
                            "      <td>B</td>\n",
                            "    </tr>\n",
                            "    <tr>\n",
                            "      <th>7</th>\n",
                            "      <td>CONDITION B/Exp0/cellZone0/ROI.tif</td>\n",
                            "      <td>2cf987b2e99bb1ed</td>\n",
                            "      <td>B</td>\n",
                            "    </tr>\n",
                            "    <tr>\n",
                            "      <th>8</th>\n",
                            "      <td>CONDITION B/Exp1/cellZone2/ROI.tif</td>\n",
                            "      <td>0628d1f1d8516a68</td>\n",
                            "      <td>B</td>\n",
                            "    </tr>\n",
                            "    <tr>\n",
                            "      <th>9</th>\n",
                            "      <td>CONDITION B/Exp1/cellZone1/ROI.tif</td>\n",
                            "      <td>662132ba6f8b14f0</td>\n",
                            "      <td>B</td>\n",
                            "    </tr>\n",
                            "    <tr>\n",
                            "      <th>10</th>\n",
                            "      <td>CONDITION B/Exp1/cellZone0/ROI.tif</td>\n",
                            "      <td>1e473395599b752f</td>\n",
                            "      <td>B</td>\n",
                            "    </tr>\n",
                            "  </tbody>\n",
                            "</table>\n",
                            "</div>"
                        ],
                        "text/plain": [
                            "                                           file                ID condition\n",
                            "0     CONDITION A/Experience1/CellZone1/ROI.tif  4c673d7a3babf12f         A\n",
                            "1     CONDITION A/Experience1/CellZone0/ROI.tif  0a4f0c4d5a770f14         A\n",
                            "2     CONDITION A/Experience0/CellZone2/ROI.tif  1aeb07e6d906fa6d         A\n",
                            "3     CONDITION A/Experience0/CellZone1/ROI.tif  272126b5e72b50a4         A\n",
                            "4   CONDITION A/Experience0/CellZone0/ROI#0.tif  e050273c2b28d429         A\n",
                            "5          CONDITION B/Exp0/cellZone2/ROI#0.tif  448d0bb5d719692d         B\n",
                            "6            CONDITION B/Exp0/cellZone1/ROI.tif  22ec7db7a6a63186         B\n",
                            "7            CONDITION B/Exp0/cellZone0/ROI.tif  2cf987b2e99bb1ed         B\n",
                            "8            CONDITION B/Exp1/cellZone2/ROI.tif  0628d1f1d8516a68         B\n",
                            "9            CONDITION B/Exp1/cellZone1/ROI.tif  662132ba6f8b14f0         B\n",
                            "10           CONDITION B/Exp1/cellZone0/ROI.tif  1e473395599b752f         B"
                        ]
                    },
                    "execution_count": 5,
                    "metadata": {},
                    "output_type": "execute_result"
                }
            ],
            "source": [
                "exp.index_df"
            ]
        },
        {
            "cell_type": "markdown",
            "metadata": {},
            "source": [
                "# Make your Experiment subclass"
            ]
        },
        {
            "cell_type": "code",
            "execution_count": 6,
            "metadata": {},
            "outputs": [],
            "source": [
                "class MyExp(Experiment):\n",
                "\n",
                "    @property\n",
                "    def custom_fields(self):\n",
                "        return {\"cell_zone\":-2,\"exp\":-3,\"condition\":-4}"
            ]
        },
        {
            "cell_type": "code",
            "execution_count": 7,
            "metadata": {},
            "outputs": [],
            "source": [
                "exp = MyExp(data_folder=\"/Users/hverdier/palm_tools_data/DATA_FOLDER\",\n",
                "    export_folder=\"/Users/hverdier/palm_tools_data/EXPORT_FOLDER\")"
            ]
        },
        {
            "cell_type": "code",
            "execution_count": 8,
            "metadata": {},
            "outputs": [
                {
                    "data": {
                        "text/html": [
                            "<div>\n",
                            "<style scoped>\n",
                            "    .dataframe tbody tr th:only-of-type {\n",
                            "        vertical-align: middle;\n",
                            "    }\n",
                            "\n",
                            "    .dataframe tbody tr th {\n",
                            "        vertical-align: top;\n",
                            "    }\n",
                            "\n",
                            "    .dataframe thead th {\n",
                            "        text-align: right;\n",
                            "    }\n",
                            "</style>\n",
                            "<table border=\"1\" class=\"dataframe\">\n",
                            "  <thead>\n",
                            "    <tr style=\"text-align: right;\">\n",
                            "      <th></th>\n",
                            "      <th>file</th>\n",
                            "      <th>ID</th>\n",
                            "      <th>cell_zone</th>\n",
                            "      <th>exp</th>\n",
                            "      <th>condition</th>\n",
                            "    </tr>\n",
                            "  </thead>\n",
                            "  <tbody>\n",
                            "    <tr>\n",
                            "      <th>0</th>\n",
                            "      <td>CONDITION A/Experience1/CellZone1/ROI.tif</td>\n",
                            "      <td>4c673d7a3babf12f</td>\n",
                            "      <td>CellZone1</td>\n",
                            "      <td>Experience1</td>\n",
                            "      <td>CONDITION A</td>\n",
                            "    </tr>\n",
                            "    <tr>\n",
                            "      <th>1</th>\n",
                            "      <td>CONDITION A/Experience1/CellZone0/ROI.tif</td>\n",
                            "      <td>0a4f0c4d5a770f14</td>\n",
                            "      <td>CellZone0</td>\n",
                            "      <td>Experience1</td>\n",
                            "      <td>CONDITION A</td>\n",
                            "    </tr>\n",
                            "    <tr>\n",
                            "      <th>2</th>\n",
                            "      <td>CONDITION A/Experience0/CellZone2/ROI.tif</td>\n",
                            "      <td>1aeb07e6d906fa6d</td>\n",
                            "      <td>CellZone2</td>\n",
                            "      <td>Experience0</td>\n",
                            "      <td>CONDITION A</td>\n",
                            "    </tr>\n",
                            "    <tr>\n",
                            "      <th>3</th>\n",
                            "      <td>CONDITION A/Experience0/CellZone1/ROI.tif</td>\n",
                            "      <td>272126b5e72b50a4</td>\n",
                            "      <td>CellZone1</td>\n",
                            "      <td>Experience0</td>\n",
                            "      <td>CONDITION A</td>\n",
                            "    </tr>\n",
                            "    <tr>\n",
                            "      <th>4</th>\n",
                            "      <td>CONDITION A/Experience0/CellZone0/ROI#0.tif</td>\n",
                            "      <td>e050273c2b28d429</td>\n",
                            "      <td>CellZone0</td>\n",
                            "      <td>Experience0</td>\n",
                            "      <td>CONDITION A</td>\n",
                            "    </tr>\n",
                            "    <tr>\n",
                            "      <th>5</th>\n",
                            "      <td>CONDITION B/Exp0/cellZone2/ROI#0.tif</td>\n",
                            "      <td>448d0bb5d719692d</td>\n",
                            "      <td>cellZone2</td>\n",
                            "      <td>Exp0</td>\n",
                            "      <td>CONDITION B</td>\n",
                            "    </tr>\n",
                            "    <tr>\n",
                            "      <th>6</th>\n",
                            "      <td>CONDITION B/Exp0/cellZone1/ROI.tif</td>\n",
                            "      <td>22ec7db7a6a63186</td>\n",
                            "      <td>cellZone1</td>\n",
                            "      <td>Exp0</td>\n",
                            "      <td>CONDITION B</td>\n",
                            "    </tr>\n",
                            "    <tr>\n",
                            "      <th>7</th>\n",
                            "      <td>CONDITION B/Exp0/cellZone0/ROI.tif</td>\n",
                            "      <td>2cf987b2e99bb1ed</td>\n",
                            "      <td>cellZone0</td>\n",
                            "      <td>Exp0</td>\n",
                            "      <td>CONDITION B</td>\n",
                            "    </tr>\n",
                            "    <tr>\n",
                            "      <th>8</th>\n",
                            "      <td>CONDITION B/Exp1/cellZone2/ROI.tif</td>\n",
                            "      <td>0628d1f1d8516a68</td>\n",
                            "      <td>cellZone2</td>\n",
                            "      <td>Exp1</td>\n",
                            "      <td>CONDITION B</td>\n",
                            "    </tr>\n",
                            "    <tr>\n",
                            "      <th>9</th>\n",
                            "      <td>CONDITION B/Exp1/cellZone1/ROI.tif</td>\n",
                            "      <td>662132ba6f8b14f0</td>\n",
                            "      <td>cellZone1</td>\n",
                            "      <td>Exp1</td>\n",
                            "      <td>CONDITION B</td>\n",
                            "    </tr>\n",
                            "    <tr>\n",
                            "      <th>10</th>\n",
                            "      <td>CONDITION B/Exp1/cellZone0/ROI.tif</td>\n",
                            "      <td>1e473395599b752f</td>\n",
                            "      <td>cellZone0</td>\n",
                            "      <td>Exp1</td>\n",
                            "      <td>CONDITION B</td>\n",
                            "    </tr>\n",
                            "  </tbody>\n",
                            "</table>\n",
                            "</div>"
                        ],
                        "text/plain": [
                            "                                           file                ID  cell_zone  \\\n",
                            "0     CONDITION A/Experience1/CellZone1/ROI.tif  4c673d7a3babf12f  CellZone1   \n",
                            "1     CONDITION A/Experience1/CellZone0/ROI.tif  0a4f0c4d5a770f14  CellZone0   \n",
                            "2     CONDITION A/Experience0/CellZone2/ROI.tif  1aeb07e6d906fa6d  CellZone2   \n",
                            "3     CONDITION A/Experience0/CellZone1/ROI.tif  272126b5e72b50a4  CellZone1   \n",
                            "4   CONDITION A/Experience0/CellZone0/ROI#0.tif  e050273c2b28d429  CellZone0   \n",
                            "5          CONDITION B/Exp0/cellZone2/ROI#0.tif  448d0bb5d719692d  cellZone2   \n",
                            "6            CONDITION B/Exp0/cellZone1/ROI.tif  22ec7db7a6a63186  cellZone1   \n",
                            "7            CONDITION B/Exp0/cellZone0/ROI.tif  2cf987b2e99bb1ed  cellZone0   \n",
                            "8            CONDITION B/Exp1/cellZone2/ROI.tif  0628d1f1d8516a68  cellZone2   \n",
                            "9            CONDITION B/Exp1/cellZone1/ROI.tif  662132ba6f8b14f0  cellZone1   \n",
                            "10           CONDITION B/Exp1/cellZone0/ROI.tif  1e473395599b752f  cellZone0   \n",
                            "\n",
                            "            exp    condition  \n",
                            "0   Experience1  CONDITION A  \n",
                            "1   Experience1  CONDITION A  \n",
                            "2   Experience0  CONDITION A  \n",
                            "3   Experience0  CONDITION A  \n",
                            "4   Experience0  CONDITION A  \n",
                            "5          Exp0  CONDITION B  \n",
                            "6          Exp0  CONDITION B  \n",
                            "7          Exp0  CONDITION B  \n",
                            "8          Exp1  CONDITION B  \n",
                            "9          Exp1  CONDITION B  \n",
                            "10         Exp1  CONDITION B  "
                        ]
                    },
                    "execution_count": 8,
                    "metadata": {},
                    "output_type": "execute_result"
                }
            ],
            "source": [
                "exp.index_df"
            ]
        },
        {
            "cell_type": "markdown",
            "metadata": {},
            "source": [
                "# Create pipelines"
            ]
        },
        {
            "cell_type": "markdown",
            "metadata": {},
            "source": [
                "## Default"
            ]
        },
        {
            "cell_type": "code",
            "execution_count": 10,
            "metadata": {},
            "outputs": [
                {
                    "name": "stdout",
                    "output_type": "stream",
                    "text": [
                        "TIF Processing pipeline\n",
                        "-----------------------\n",
                        "Movie preprocessing steps :\n",
                        "-----------------------\n",
                        "Localizer :\n",
                        "\t Default Localizer (DefaultLocalizer) :\n",
                        "\t\t threshold_factor : 1.0\n",
                        "\n",
                        "-----------------------\n",
                        "Localization processing steps :\n",
                        "-----------------------\n",
                        "Tracker :\n",
                        "\t Default tracker (Trackpy) (TrackpyTracker) :\n",
                        "\t\t max_diffusivity : 5.0\n",
                        "\n",
                        "\n"
                    ]
                }
            ],
            "source": [
                "tp = TifPipeline.from_dict({\"name\":\"default_pipeline\"})\n",
                "print(tp)"
            ]
        },
        {
            "cell_type": "markdown",
            "metadata": {},
            "source": [
                "## Add some filtering"
            ]
        },
        {
            "cell_type": "code",
            "execution_count": 11,
            "metadata": {},
            "outputs": [
                {
                    "name": "stdout",
                    "output_type": "stream",
                    "text": [
                        "TIF Processing pipeline\n",
                        "-----------------------\n",
                        "Movie preprocessing steps :\n",
                        "1/1 \t Local percentile filtering (WindowPercentileFilter) :\n",
                        "\t\t percentile : 10\n",
                        "\t\t window_size : 300\n",
                        "\n",
                        "-----------------------\n",
                        "Localizer :\n",
                        "\t Default Localizer (DefaultLocalizer) :\n",
                        "\t\t threshold_factor : 1.0\n",
                        "\n",
                        "-----------------------\n",
                        "Localization processing steps :\n",
                        "-----------------------\n",
                        "Tracker :\n",
                        "\t Default tracker (Trackpy) (TrackpyTracker) :\n",
                        "\t\t max_diffusivity : 5.0\n",
                        "\n",
                        "\n"
                    ]
                }
            ],
            "source": [
                "tp = TifPipeline.from_dict({\n",
                "    \"name\":\"test\",\n",
                "    \"movie_preprocessors\":[{\"WindowPercentileFilter\":{\"percentile\":10,\"window_size\":300}}]\n",
                "})\n",
                "print(tp)"
            ]
        },
        {
            "cell_type": "markdown",
            "metadata": {},
            "source": [
                "## Or a stricter localizer"
            ]
        },
        {
            "cell_type": "code",
            "execution_count": 12,
            "metadata": {},
            "outputs": [
                {
                    "name": "stdout",
                    "output_type": "stream",
                    "text": [
                        "TIF Processing pipeline\n",
                        "-----------------------\n",
                        "Movie preprocessing steps :\n",
                        "-----------------------\n",
                        "Localizer :\n",
                        "\t Default Localizer (DefaultLocalizer) :\n",
                        "\t\t threshold_factor : 1.5\n",
                        "\n",
                        "-----------------------\n",
                        "Localization processing steps :\n",
                        "-----------------------\n",
                        "Tracker :\n",
                        "\t Default tracker (Trackpy) (TrackpyTracker) :\n",
                        "\t\t max_diffusivity : 5.0\n",
                        "\n",
                        "\n"
                    ]
                }
            ],
            "source": [
                "tp2 = TifPipeline.from_dict({\n",
                "    \"name\":\"stricter_than_default\",\n",
                "    \"localizer\":{\"DefaultLocalizer\":{\"threshold_factor\":1.5}},\n",
                "})\n",
                "print(tp2)"
            ]
        },
        {
            "cell_type": "markdown",
            "metadata": {},
            "source": [
                "## Export and load pipelines"
            ]
        },
        {
            "cell_type": "code",
            "execution_count": 13,
            "metadata": {},
            "outputs": [],
            "source": [
                "tp2.to_yaml(\"/Users/hverdier/palm_tools_data/pipeline2.yaml\")\n",
                "tp2 = TifPipeline.from_yaml(\"/Users/hverdier/palm_tools_data/pipeline2.yaml\")"
            ]
        },
        {
            "cell_type": "markdown",
            "metadata": {},
            "source": [
                "# Run the pipeline on an Acquisition"
            ]
        },
        {
            "cell_type": "code",
            "execution_count": 37,
            "metadata": {},
            "outputs": [
                {
                    "data": {
                        "text/plain": [
                            "'CONDITION A/Experience1/CellZone0/ROI.tif'"
                        ]
                    },
                    "execution_count": 37,
                    "metadata": {},
                    "output_type": "execute_result"
                }
            ],
            "source": [
                "# Access files of your experiment as if the Experiment instance was a list\n",
                "exp[1]"
            ]
        },
        {
            "cell_type": "code",
            "execution_count": 33,
            "metadata": {},
            "outputs": [],
            "source": [
                "# To start, we'll process just one file. A movie is represented by an Acquisition\n",
                "acq = Acquisition(exp[1],experiment=exp, tif_pipeline=tp)"
            ]
        },
        {
            "cell_type": "code",
            "execution_count": 34,
            "metadata": {},
            "outputs": [
                {
                    "name": "stdout",
                    "output_type": "stream",
                    "text": [
                        "Frame 19999: 4 trajectories present.\n"
                    ]
                }
            ],
            "source": [
                "tp.process(acq)"
            ]
        },
        {
            "cell_type": "code",
            "execution_count": 35,
            "metadata": {},
            "outputs": [
                {
                    "data": {
                        "text/html": [
                            "<div>\n",
                            "<style scoped>\n",
                            "    .dataframe tbody tr th:only-of-type {\n",
                            "        vertical-align: middle;\n",
                            "    }\n",
                            "\n",
                            "    .dataframe tbody tr th {\n",
                            "        vertical-align: top;\n",
                            "    }\n",
                            "\n",
                            "    .dataframe thead th {\n",
                            "        text-align: right;\n",
                            "    }\n",
                            "</style>\n",
                            "<table border=\"1\" class=\"dataframe\">\n",
                            "  <thead>\n",
                            "    <tr style=\"text-align: right;\">\n",
                            "      <th></th>\n",
                            "      <th>frame</th>\n",
                            "      <th>x</th>\n",
                            "      <th>y</th>\n",
                            "      <th>ratio</th>\n",
                            "      <th>sigma</th>\n",
                            "      <th>total_intensity</th>\n",
                            "      <th>t</th>\n",
                            "      <th>n</th>\n",
                            "    </tr>\n",
                            "  </thead>\n",
                            "  <tbody>\n",
                            "    <tr>\n",
                            "      <th>0</th>\n",
                            "      <td>0</td>\n",
                            "      <td>6.011957</td>\n",
                            "      <td>8.125726</td>\n",
                            "      <td>1.027050</td>\n",
                            "      <td>4.331901</td>\n",
                            "      <td>3463.0</td>\n",
                            "      <td>0.00</td>\n",
                            "      <td>0</td>\n",
                            "    </tr>\n",
                            "    <tr>\n",
                            "      <th>1</th>\n",
                            "      <td>1</td>\n",
                            "      <td>4.122741</td>\n",
                            "      <td>5.696350</td>\n",
                            "      <td>2.075699</td>\n",
                            "      <td>4.171183</td>\n",
                            "      <td>4822.0</td>\n",
                            "      <td>0.03</td>\n",
                            "      <td>1</td>\n",
                            "    </tr>\n",
                            "    <tr>\n",
                            "      <th>2</th>\n",
                            "      <td>2</td>\n",
                            "      <td>7.116422</td>\n",
                            "      <td>3.556992</td>\n",
                            "      <td>1.109842</td>\n",
                            "      <td>4.255278</td>\n",
                            "      <td>4318.0</td>\n",
                            "      <td>0.06</td>\n",
                            "      <td>2</td>\n",
                            "    </tr>\n",
                            "    <tr>\n",
                            "      <th>3</th>\n",
                            "      <td>3</td>\n",
                            "      <td>4.841610</td>\n",
                            "      <td>3.477802</td>\n",
                            "      <td>1.104055</td>\n",
                            "      <td>4.325023</td>\n",
                            "      <td>4581.0</td>\n",
                            "      <td>0.09</td>\n",
                            "      <td>3</td>\n",
                            "    </tr>\n",
                            "    <tr>\n",
                            "      <th>4</th>\n",
                            "      <td>3</td>\n",
                            "      <td>6.604752</td>\n",
                            "      <td>3.934262</td>\n",
                            "      <td>1.048544</td>\n",
                            "      <td>4.016388</td>\n",
                            "      <td>5269.0</td>\n",
                            "      <td>0.09</td>\n",
                            "      <td>4</td>\n",
                            "    </tr>\n",
                            "  </tbody>\n",
                            "</table>\n",
                            "</div>"
                        ],
                        "text/plain": [
                            "   frame         x         y     ratio     sigma  total_intensity     t  n\n",
                            "0      0  6.011957  8.125726  1.027050  4.331901           3463.0  0.00  0\n",
                            "1      1  4.122741  5.696350  2.075699  4.171183           4822.0  0.03  1\n",
                            "2      2  7.116422  3.556992  1.109842  4.255278           4318.0  0.06  2\n",
                            "3      3  4.841610  3.477802  1.104055  4.325023           4581.0  0.09  3\n",
                            "4      3  6.604752  3.934262  1.048544  4.016388           5269.0  0.09  4"
                        ]
                    },
                    "execution_count": 35,
                    "metadata": {},
                    "output_type": "execute_result"
                }
            ],
            "source": [
                "# That's it, you've got your localizations !\n",
                "acq.locs.head()"
            ]
        },
        {
            "cell_type": "code",
            "execution_count": 36,
            "metadata": {},
            "outputs": [
                {
                    "data": {
                        "text/plain": [
                            "'/Users/hverdier/palm_tools_data/EXPORT_FOLDER/test/CONDITION A/Experience1/CellZone0/ROI.locs'"
                        ]
                    },
                    "execution_count": 36,
                    "metadata": {},
                    "output_type": "execute_result"
                }
            ],
            "source": [
                "# They're stored here\n",
                "acq.locs_path"
            ]
        },
        {
            "cell_type": "code",
            "execution_count": 38,
            "metadata": {},
            "outputs": [
                {
                    "name": "stderr",
                    "output_type": "stream",
                    "text": [
                        "/Users/hverdier/opt/miniconda3/envs/gratin/lib/python3.8/site-packages/napari/_vispy/layers/image.py:228: UserWarning: data shape (20000, 100, 100) exceeds GL_MAX_TEXTURE_SIZE 2048 in at least one axis and will be downsampled. Rendering is currently in 3D mode.\n",
                        "  warnings.warn(\n"
                    ]
                },
                {
                    "name": "stdout",
                    "output_type": "stream",
                    "text": [
                        "[########################################] | 100% Completed | 22.4s\n",
                        "Scaling positions when adding layer\n",
                        "Pixel size = 0.097\n"
                    ]
                }
            ],
            "source": [
                "# See localizations and tracks overlayed on the movie in Napari\n",
                "acq.view(min_traj_length=5)"
            ]
        },
        {
            "cell_type": "code",
            "execution_count": 30,
            "metadata": {},
            "outputs": [],
            "source": [
                "# Visualize the effect of each of the pipeline's steps here :\n",
                "TifPipelineWidget.view_pipeline(tp,acq=acq)"
            ]
        },
        {
            "cell_type": "markdown",
            "metadata": {},
            "source": [
                "# Run pipeline on the whole experience !"
            ]
        },
        {
            "cell_type": "code",
            "execution_count": 9,
            "metadata": {},
            "outputs": [],
            "source": [
                "tp.process(exp)"
            ]
        }
    ],
    "metadata": {
        "interpreter": {
            "hash": "4837541b08273725961d16e4f8b9212960760bd37ca9f5bd53c7dffd8322a878"
        },
        "kernelspec": {
            "display_name": "Python 3.9.7 ('napari-env')",
            "language": "python",
            "name": "python3"
        },
        "language_info": {
            "codemirror_mode": {
                "name": "ipython",
                "version": 3
            },
            "file_extension": ".py",
            "mimetype": "text/x-python",
            "name": "python",
            "nbconvert_exporter": "python",
            "pygments_lexer": "ipython3",
            "version": "3.8.13"
        },
        "orig_nbformat": 4
    },
    "nbformat": 4,
    "nbformat_minor": 2
}
