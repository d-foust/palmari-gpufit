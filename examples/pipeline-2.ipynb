{
    "cells": [
        {
            "cell_type": "code",
            "execution_count": 1,
            "metadata": {},
            "outputs": [],
            "source": [
                "%load_ext autoreload\n",
                "%autoreload 2\n",
                "from palmari.processing import *\n",
                "from palmari import Experiment, TifPipelineWidget\n",
                "from palmari.processing.steps.quot_localizer import MaxLikelihoodLocalizer\n",
                "%matplotlib inline\n",
                "%config InlineBackend.figure_format = 'retina'"
            ]
        },
        {
            "cell_type": "markdown",
            "metadata": {},
            "source": [
                "# Your first Experiment"
            ]
        },
        {
            "cell_type": "code",
            "execution_count": 2,
            "metadata": {},
            "outputs": [],
            "source": [
                "exp = Experiment(data_folder=\"/Users/hverdier/palm_tools_data/DATA_FOLDER\",\n",
                "    export_folder=\"/Users/hverdier/palm_tools_data/EXPORT_FOLDER\")"
            ]
        },
        {
            "cell_type": "code",
            "execution_count": 3,
            "metadata": {},
            "outputs": [],
            "source": [
                "# Indicate conditions in the index_df table of the Experiment\n",
                "# This can be done automatically if you create a subclass of Experiment (see below)\n",
                "exp.index_df[\"condition\"] = \"A\"\n",
                "exp.index_df.loc[exp.index_df.file.str.contains(\"B\"),\"condition\"] = \"B\""
            ]
        },
        {
            "cell_type": "code",
            "execution_count": 4,
            "metadata": {},
            "outputs": [
                {
                    "data": {
                        "text/html": [
                            "<div>\n",
                            "<style scoped>\n",
                            "    .dataframe tbody tr th:only-of-type {\n",
                            "        vertical-align: middle;\n",
                            "    }\n",
                            "\n",
                            "    .dataframe tbody tr th {\n",
                            "        vertical-align: top;\n",
                            "    }\n",
                            "\n",
                            "    .dataframe thead th {\n",
                            "        text-align: right;\n",
                            "    }\n",
                            "</style>\n",
                            "<table border=\"1\" class=\"dataframe\">\n",
                            "  <thead>\n",
                            "    <tr style=\"text-align: right;\">\n",
                            "      <th></th>\n",
                            "      <th>file</th>\n",
                            "      <th>ID</th>\n",
                            "      <th>condition</th>\n",
                            "    </tr>\n",
                            "  </thead>\n",
                            "  <tbody>\n",
                            "    <tr>\n",
                            "      <th>0</th>\n",
                            "      <td>CONDITION A/Experience1/CellZone1/ROI.tif</td>\n",
                            "      <td>4c673d7a3babf12f</td>\n",
                            "      <td>A</td>\n",
                            "    </tr>\n",
                            "    <tr>\n",
                            "      <th>1</th>\n",
                            "      <td>CONDITION A/Experience1/CellZone0/ROI.tif</td>\n",
                            "      <td>0a4f0c4d5a770f14</td>\n",
                            "      <td>A</td>\n",
                            "    </tr>\n",
                            "    <tr>\n",
                            "      <th>2</th>\n",
                            "      <td>CONDITION A/Experience0/CellZone2/ROI.tif</td>\n",
                            "      <td>1aeb07e6d906fa6d</td>\n",
                            "      <td>A</td>\n",
                            "    </tr>\n",
                            "    <tr>\n",
                            "      <th>3</th>\n",
                            "      <td>CONDITION A/Experience0/CellZone1/ROI.tif</td>\n",
                            "      <td>272126b5e72b50a4</td>\n",
                            "      <td>A</td>\n",
                            "    </tr>\n",
                            "    <tr>\n",
                            "      <th>4</th>\n",
                            "      <td>CONDITION A/Experience0/CellZone0/ROI#0.tif</td>\n",
                            "      <td>e050273c2b28d429</td>\n",
                            "      <td>A</td>\n",
                            "    </tr>\n",
                            "    <tr>\n",
                            "      <th>5</th>\n",
                            "      <td>CONDITION B/Exp0/cellZone2/ROI#0.tif</td>\n",
                            "      <td>448d0bb5d719692d</td>\n",
                            "      <td>B</td>\n",
                            "    </tr>\n",
                            "    <tr>\n",
                            "      <th>6</th>\n",
                            "      <td>CONDITION B/Exp0/cellZone1/ROI.tif</td>\n",
                            "      <td>22ec7db7a6a63186</td>\n",
                            "      <td>B</td>\n",
                            "    </tr>\n",
                            "    <tr>\n",
                            "      <th>7</th>\n",
                            "      <td>CONDITION B/Exp0/cellZone0/ROI.tif</td>\n",
                            "      <td>2cf987b2e99bb1ed</td>\n",
                            "      <td>B</td>\n",
                            "    </tr>\n",
                            "    <tr>\n",
                            "      <th>8</th>\n",
                            "      <td>CONDITION B/Exp1/cellZone2/ROI.tif</td>\n",
                            "      <td>0628d1f1d8516a68</td>\n",
                            "      <td>B</td>\n",
                            "    </tr>\n",
                            "    <tr>\n",
                            "      <th>9</th>\n",
                            "      <td>CONDITION B/Exp1/cellZone1/ROI.tif</td>\n",
                            "      <td>662132ba6f8b14f0</td>\n",
                            "      <td>B</td>\n",
                            "    </tr>\n",
                            "    <tr>\n",
                            "      <th>10</th>\n",
                            "      <td>CONDITION B/Exp1/cellZone0/ROI.tif</td>\n",
                            "      <td>1e473395599b752f</td>\n",
                            "      <td>B</td>\n",
                            "    </tr>\n",
                            "  </tbody>\n",
                            "</table>\n",
                            "</div>"
                        ],
                        "text/plain": [
                            "                                           file                ID condition\n",
                            "0     CONDITION A/Experience1/CellZone1/ROI.tif  4c673d7a3babf12f         A\n",
                            "1     CONDITION A/Experience1/CellZone0/ROI.tif  0a4f0c4d5a770f14         A\n",
                            "2     CONDITION A/Experience0/CellZone2/ROI.tif  1aeb07e6d906fa6d         A\n",
                            "3     CONDITION A/Experience0/CellZone1/ROI.tif  272126b5e72b50a4         A\n",
                            "4   CONDITION A/Experience0/CellZone0/ROI#0.tif  e050273c2b28d429         A\n",
                            "5          CONDITION B/Exp0/cellZone2/ROI#0.tif  448d0bb5d719692d         B\n",
                            "6            CONDITION B/Exp0/cellZone1/ROI.tif  22ec7db7a6a63186         B\n",
                            "7            CONDITION B/Exp0/cellZone0/ROI.tif  2cf987b2e99bb1ed         B\n",
                            "8            CONDITION B/Exp1/cellZone2/ROI.tif  0628d1f1d8516a68         B\n",
                            "9            CONDITION B/Exp1/cellZone1/ROI.tif  662132ba6f8b14f0         B\n",
                            "10           CONDITION B/Exp1/cellZone0/ROI.tif  1e473395599b752f         B"
                        ]
                    },
                    "execution_count": 4,
                    "metadata": {},
                    "output_type": "execute_result"
                }
            ],
            "source": [
                "exp.index_df"
            ]
        },
        {
            "cell_type": "markdown",
            "metadata": {},
            "source": [
                "# Make your Experiment subclass"
            ]
        },
        {
            "cell_type": "code",
            "execution_count": 5,
            "metadata": {},
            "outputs": [],
            "source": [
                "class MyExp(Experiment):\n",
                "\n",
                "    @property\n",
                "    def custom_fields(self):\n",
                "        return {\"cell_zone\":-2,\"exp\":-3,\"condition\":-4}"
            ]
        },
        {
            "cell_type": "code",
            "execution_count": 6,
            "metadata": {},
            "outputs": [],
            "source": [
                "exp = MyExp(data_folder=\"/Users/hverdier/palm_tools_data/DATA_FOLDER\",\n",
                "    export_folder=\"/Users/hverdier/palm_tools_data/EXPORT_FOLDER\")"
            ]
        },
        {
            "cell_type": "code",
            "execution_count": 7,
            "metadata": {},
            "outputs": [
                {
                    "data": {
                        "text/html": [
                            "<div>\n",
                            "<style scoped>\n",
                            "    .dataframe tbody tr th:only-of-type {\n",
                            "        vertical-align: middle;\n",
                            "    }\n",
                            "\n",
                            "    .dataframe tbody tr th {\n",
                            "        vertical-align: top;\n",
                            "    }\n",
                            "\n",
                            "    .dataframe thead th {\n",
                            "        text-align: right;\n",
                            "    }\n",
                            "</style>\n",
                            "<table border=\"1\" class=\"dataframe\">\n",
                            "  <thead>\n",
                            "    <tr style=\"text-align: right;\">\n",
                            "      <th></th>\n",
                            "      <th>file</th>\n",
                            "      <th>ID</th>\n",
                            "      <th>cell_zone</th>\n",
                            "      <th>exp</th>\n",
                            "      <th>condition</th>\n",
                            "    </tr>\n",
                            "  </thead>\n",
                            "  <tbody>\n",
                            "    <tr>\n",
                            "      <th>0</th>\n",
                            "      <td>CONDITION A/Experience1/CellZone1/ROI.tif</td>\n",
                            "      <td>4c673d7a3babf12f</td>\n",
                            "      <td>CellZone1</td>\n",
                            "      <td>Experience1</td>\n",
                            "      <td>CONDITION A</td>\n",
                            "    </tr>\n",
                            "    <tr>\n",
                            "      <th>1</th>\n",
                            "      <td>CONDITION A/Experience1/CellZone0/ROI.tif</td>\n",
                            "      <td>0a4f0c4d5a770f14</td>\n",
                            "      <td>CellZone0</td>\n",
                            "      <td>Experience1</td>\n",
                            "      <td>CONDITION A</td>\n",
                            "    </tr>\n",
                            "    <tr>\n",
                            "      <th>2</th>\n",
                            "      <td>CONDITION A/Experience0/CellZone2/ROI.tif</td>\n",
                            "      <td>1aeb07e6d906fa6d</td>\n",
                            "      <td>CellZone2</td>\n",
                            "      <td>Experience0</td>\n",
                            "      <td>CONDITION A</td>\n",
                            "    </tr>\n",
                            "    <tr>\n",
                            "      <th>3</th>\n",
                            "      <td>CONDITION A/Experience0/CellZone1/ROI.tif</td>\n",
                            "      <td>272126b5e72b50a4</td>\n",
                            "      <td>CellZone1</td>\n",
                            "      <td>Experience0</td>\n",
                            "      <td>CONDITION A</td>\n",
                            "    </tr>\n",
                            "    <tr>\n",
                            "      <th>4</th>\n",
                            "      <td>CONDITION A/Experience0/CellZone0/ROI#0.tif</td>\n",
                            "      <td>e050273c2b28d429</td>\n",
                            "      <td>CellZone0</td>\n",
                            "      <td>Experience0</td>\n",
                            "      <td>CONDITION A</td>\n",
                            "    </tr>\n",
                            "    <tr>\n",
                            "      <th>5</th>\n",
                            "      <td>CONDITION B/Exp0/cellZone2/ROI#0.tif</td>\n",
                            "      <td>448d0bb5d719692d</td>\n",
                            "      <td>cellZone2</td>\n",
                            "      <td>Exp0</td>\n",
                            "      <td>CONDITION B</td>\n",
                            "    </tr>\n",
                            "    <tr>\n",
                            "      <th>6</th>\n",
                            "      <td>CONDITION B/Exp0/cellZone1/ROI.tif</td>\n",
                            "      <td>22ec7db7a6a63186</td>\n",
                            "      <td>cellZone1</td>\n",
                            "      <td>Exp0</td>\n",
                            "      <td>CONDITION B</td>\n",
                            "    </tr>\n",
                            "    <tr>\n",
                            "      <th>7</th>\n",
                            "      <td>CONDITION B/Exp0/cellZone0/ROI.tif</td>\n",
                            "      <td>2cf987b2e99bb1ed</td>\n",
                            "      <td>cellZone0</td>\n",
                            "      <td>Exp0</td>\n",
                            "      <td>CONDITION B</td>\n",
                            "    </tr>\n",
                            "    <tr>\n",
                            "      <th>8</th>\n",
                            "      <td>CONDITION B/Exp1/cellZone2/ROI.tif</td>\n",
                            "      <td>0628d1f1d8516a68</td>\n",
                            "      <td>cellZone2</td>\n",
                            "      <td>Exp1</td>\n",
                            "      <td>CONDITION B</td>\n",
                            "    </tr>\n",
                            "    <tr>\n",
                            "      <th>9</th>\n",
                            "      <td>CONDITION B/Exp1/cellZone1/ROI.tif</td>\n",
                            "      <td>662132ba6f8b14f0</td>\n",
                            "      <td>cellZone1</td>\n",
                            "      <td>Exp1</td>\n",
                            "      <td>CONDITION B</td>\n",
                            "    </tr>\n",
                            "    <tr>\n",
                            "      <th>10</th>\n",
                            "      <td>CONDITION B/Exp1/cellZone0/ROI.tif</td>\n",
                            "      <td>1e473395599b752f</td>\n",
                            "      <td>cellZone0</td>\n",
                            "      <td>Exp1</td>\n",
                            "      <td>CONDITION B</td>\n",
                            "    </tr>\n",
                            "  </tbody>\n",
                            "</table>\n",
                            "</div>"
                        ],
                        "text/plain": [
                            "                                           file                ID  cell_zone  \\\n",
                            "0     CONDITION A/Experience1/CellZone1/ROI.tif  4c673d7a3babf12f  CellZone1   \n",
                            "1     CONDITION A/Experience1/CellZone0/ROI.tif  0a4f0c4d5a770f14  CellZone0   \n",
                            "2     CONDITION A/Experience0/CellZone2/ROI.tif  1aeb07e6d906fa6d  CellZone2   \n",
                            "3     CONDITION A/Experience0/CellZone1/ROI.tif  272126b5e72b50a4  CellZone1   \n",
                            "4   CONDITION A/Experience0/CellZone0/ROI#0.tif  e050273c2b28d429  CellZone0   \n",
                            "5          CONDITION B/Exp0/cellZone2/ROI#0.tif  448d0bb5d719692d  cellZone2   \n",
                            "6            CONDITION B/Exp0/cellZone1/ROI.tif  22ec7db7a6a63186  cellZone1   \n",
                            "7            CONDITION B/Exp0/cellZone0/ROI.tif  2cf987b2e99bb1ed  cellZone0   \n",
                            "8            CONDITION B/Exp1/cellZone2/ROI.tif  0628d1f1d8516a68  cellZone2   \n",
                            "9            CONDITION B/Exp1/cellZone1/ROI.tif  662132ba6f8b14f0  cellZone1   \n",
                            "10           CONDITION B/Exp1/cellZone0/ROI.tif  1e473395599b752f  cellZone0   \n",
                            "\n",
                            "            exp    condition  \n",
                            "0   Experience1  CONDITION A  \n",
                            "1   Experience1  CONDITION A  \n",
                            "2   Experience0  CONDITION A  \n",
                            "3   Experience0  CONDITION A  \n",
                            "4   Experience0  CONDITION A  \n",
                            "5          Exp0  CONDITION B  \n",
                            "6          Exp0  CONDITION B  \n",
                            "7          Exp0  CONDITION B  \n",
                            "8          Exp1  CONDITION B  \n",
                            "9          Exp1  CONDITION B  \n",
                            "10         Exp1  CONDITION B  "
                        ]
                    },
                    "execution_count": 7,
                    "metadata": {},
                    "output_type": "execute_result"
                }
            ],
            "source": [
                "exp.index_df"
            ]
        },
        {
            "cell_type": "markdown",
            "metadata": {},
            "source": [
                "# Create pipelines"
            ]
        },
        {
            "cell_type": "markdown",
            "metadata": {},
            "source": [
                "## Default"
            ]
        },
        {
            "cell_type": "code",
            "execution_count": null,
            "metadata": {},
            "outputs": [],
            "source": []
        },
        {
            "cell_type": "code",
            "execution_count": 8,
            "metadata": {},
            "outputs": [
                {
                    "name": "stdout",
                    "output_type": "stream",
                    "text": [
                        "TIF Processing pipeline\n",
                        "-----------------------\n",
                        "Movie preprocessing steps :\n",
                        "-----------------------\n",
                        "Localizer :\n",
                        "\t MTT (quot) localizer (MaxLikelihoodLocalizer) :\n",
                        "\t\t detect_params : {'method': 'llr', 'k': 1.5, 'w': 21, 't': 16.0}\n",
                        "\t\t loc_params : {'method': 'ls_int_gaussian', 'window_size': 9, 'sigma': 1.5, 'ridge': 0.0001, 'convergence': 0.0001, 'divergence': 1.0, 'max_iter': 10, 'damp': 0.3, 'camera_bg': 0.0, 'camera_gain': 1.0}\n",
                        "\n",
                        "-----------------------\n",
                        "Localization processing steps :\n",
                        "-----------------------\n",
                        "Tracker :\n",
                        "\t MTT tracker (Trackpy) (DiffusionTracker) :\n",
                        "\t\t params : {}\n",
                        "\n",
                        "\n"
                    ]
                }
            ],
            "source": [
                "tp = TifPipeline.from_dict({\"name\":\"test\",\"localizer\":{\"MaxLikelihoodLocalizer\":{}},\"tracker\":{\"DiffusionTracker\":{}}})\n",
                "print(tp)"
            ]
        },
        {
            "cell_type": "markdown",
            "metadata": {},
            "source": [
                "## Export and load pipelines"
            ]
        },
        {
            "cell_type": "code",
            "execution_count": 9,
            "metadata": {},
            "outputs": [],
            "source": [
                "tp.to_yaml(\"/Users/hverdier/palm_tools_data/pipeline_test.yaml\")\n",
                "tp = TifPipeline.from_yaml(\"/Users/hverdier/palm_tools_data/pipeline_test.yaml\")"
            ]
        },
        {
            "cell_type": "markdown",
            "metadata": {},
            "source": [
                "# Run the pipeline on an Acquisition"
            ]
        },
        {
            "cell_type": "code",
            "execution_count": 10,
            "metadata": {},
            "outputs": [
                {
                    "data": {
                        "text/plain": [
                            "'CONDITION A/Experience1/CellZone0/ROI.tif'"
                        ]
                    },
                    "execution_count": 10,
                    "metadata": {},
                    "output_type": "execute_result"
                }
            ],
            "source": [
                "# Access files of your experiment as if the Experiment instance was a list\n",
                "exp[1]"
            ]
        },
        {
            "cell_type": "code",
            "execution_count": 11,
            "metadata": {},
            "outputs": [],
            "source": [
                "# To start, we'll process just one file. A movie is represented by an Acquisition\n",
                "acq = Acquisition(exp[2],experiment=exp, tif_pipeline=tp)"
            ]
        },
        {
            "cell_type": "code",
            "execution_count": 13,
            "metadata": {},
            "outputs": [
                {
                    "name": "stdout",
                    "output_type": "stream",
                    "text": [
                        "[########################################] | 100% Completed |  6min 46.0s\n"
                    ]
                },
                {
                    "ename": "AttributeError",
                    "evalue": "'DiffusionTracker' object has no attribute 'max_diffusivity'",
                    "output_type": "error",
                    "traceback": [
                        "\u001b[0;31m---------------------------------------------------------------------------\u001b[0m",
                        "\u001b[0;31mAttributeError\u001b[0m                            Traceback (most recent call last)",
                        "\u001b[1;32m/Users/hverdier/palmari/examples/pipeline-2.ipynb Cellule 19\u001b[0m in \u001b[0;36m<cell line: 1>\u001b[0;34m()\u001b[0m\n\u001b[0;32m----> <a href='vscode-notebook-cell:/Users/hverdier/palmari/examples/pipeline-2.ipynb#X31sZmlsZQ%3D%3D?line=0'>1</a>\u001b[0m tp\u001b[39m.\u001b[39;49mprocess(acq,force_reprocess\u001b[39m=\u001b[39;49m\u001b[39mTrue\u001b[39;49;00m)\n",
                        "File \u001b[0;32m~/palmari/src/palmari/processing/tif_pipeline.py:237\u001b[0m, in \u001b[0;36mTifPipeline.process\u001b[0;34m(self, to_process, force_reprocess)\u001b[0m\n\u001b[1;32m    234\u001b[0m logging\u001b[39m.\u001b[39mdebug(\u001b[39m\"\u001b[39m\u001b[39mProcess \u001b[39m\u001b[39m%s\u001b[39;00m\u001b[39m\"\u001b[39m \u001b[39m%\u001b[39m to_process)\n\u001b[1;32m    235\u001b[0m \u001b[39mif\u001b[39;00m \u001b[39misinstance\u001b[39m(to_process, Acquisition):\n\u001b[1;32m    236\u001b[0m     \u001b[39m# Actually process\u001b[39;00m\n\u001b[0;32m--> 237\u001b[0m     \u001b[39mself\u001b[39;49m\u001b[39m.\u001b[39;49m_process(\n\u001b[1;32m    238\u001b[0m         to_process,\n\u001b[1;32m    239\u001b[0m         skip_loc\u001b[39m=\u001b[39;49m(\u001b[39mnot\u001b[39;49;00m force_reprocess)\n\u001b[1;32m    240\u001b[0m         \u001b[39mand\u001b[39;49;00m \u001b[39mself\u001b[39;49m\u001b[39m.\u001b[39;49mis_already_localized(to_process),\n\u001b[1;32m    241\u001b[0m         skip_tracking\u001b[39m=\u001b[39;49m(\u001b[39mnot\u001b[39;49;00m force_reprocess)\n\u001b[1;32m    242\u001b[0m         \u001b[39mand\u001b[39;49;00m \u001b[39mself\u001b[39;49m\u001b[39m.\u001b[39;49mis_already_tracked(to_process),\n\u001b[1;32m    243\u001b[0m     )\n\u001b[1;32m    244\u001b[0m \u001b[39melif\u001b[39;00m \u001b[39misinstance\u001b[39m(to_process, Experiment):\n\u001b[1;32m    245\u001b[0m \n\u001b[1;32m    246\u001b[0m     \u001b[39m# Actually process, acquisition after acquisition\u001b[39;00m\n\u001b[1;32m    248\u001b[0m     \u001b[39mfor\u001b[39;00m i, acq_file \u001b[39min\u001b[39;00m \u001b[39menumerate\u001b[39m(to_process):\n",
                        "File \u001b[0;32m~/palmari/src/palmari/processing/tif_pipeline.py:226\u001b[0m, in \u001b[0;36mTifPipeline._process\u001b[0;34m(self, acq, skip_loc, skip_tracking)\u001b[0m\n\u001b[1;32m    224\u001b[0m \u001b[39mif\u001b[39;00m \u001b[39mnot\u001b[39;00m skip_tracking:\n\u001b[1;32m    225\u001b[0m     locs \u001b[39m=\u001b[39m \u001b[39mself\u001b[39m\u001b[39m.\u001b[39mloc_processing(acq\u001b[39m.\u001b[39mraw_locs\u001b[39m.\u001b[39mcopy())\n\u001b[0;32m--> 226\u001b[0m     acq\u001b[39m.\u001b[39mlocs \u001b[39m=\u001b[39m \u001b[39mself\u001b[39;49m\u001b[39m.\u001b[39;49mtracking(locs)\n\u001b[1;32m    227\u001b[0m     \u001b[39mself\u001b[39m\u001b[39m.\u001b[39mmark_as_tracked(acq)\n",
                        "File \u001b[0;32m~/palmari/src/palmari/processing/tif_pipeline.py:202\u001b[0m, in \u001b[0;36mTifPipeline.tracking\u001b[0;34m(self, locs)\u001b[0m\n\u001b[1;32m    201\u001b[0m \u001b[39mdef\u001b[39;00m \u001b[39mtracking\u001b[39m(\u001b[39mself\u001b[39m, locs: pd\u001b[39m.\u001b[39mDataFrame) \u001b[39m-\u001b[39m\u001b[39m>\u001b[39m pd\u001b[39m.\u001b[39mDataFrame:\n\u001b[0;32m--> 202\u001b[0m     \u001b[39mreturn\u001b[39;00m \u001b[39mself\u001b[39;49m\u001b[39m.\u001b[39;49mtracker\u001b[39m.\u001b[39;49mtrack(locs)\n",
                        "File \u001b[0;32m~/palmari/src/palmari/processing/steps/quot_tracker.py:20\u001b[0m, in \u001b[0;36mMTTTracker.track\u001b[0;34m(self, locs)\u001b[0m\n\u001b[1;32m     18\u001b[0m delta_t \u001b[39m=\u001b[39m \u001b[39mself\u001b[39m\u001b[39m.\u001b[39mestimate_delta_t(locs)  \u001b[39m# This is a Tracker's method.\u001b[39;00m\n\u001b[1;32m     19\u001b[0m dim \u001b[39m=\u001b[39m \u001b[39m2\u001b[39m\n\u001b[0;32m---> 20\u001b[0m max_radius \u001b[39m=\u001b[39m np\u001b[39m.\u001b[39msqrt(\u001b[39m2\u001b[39m \u001b[39m*\u001b[39m dim \u001b[39m*\u001b[39m \u001b[39mself\u001b[39;49m\u001b[39m.\u001b[39;49mmax_diffusivity \u001b[39m*\u001b[39m delta_t)\n\u001b[1;32m     21\u001b[0m logging\u001b[39m.\u001b[39minfo(\u001b[39m\"\u001b[39m\u001b[39mMax radius is \u001b[39m\u001b[39m%.2f\u001b[39;00m\u001b[39m\"\u001b[39m \u001b[39m%\u001b[39m max_radius)\n\u001b[1;32m     22\u001b[0m locs[\u001b[39m\"\u001b[39m\u001b[39mn\u001b[39m\u001b[39m\"\u001b[39m] \u001b[39m=\u001b[39m track(\n\u001b[1;32m     23\u001b[0m     locs,\n\u001b[1;32m     24\u001b[0m     search_radius\u001b[39m=\u001b[39mmax_radius,\n\u001b[0;32m   (...)\u001b[0m\n\u001b[1;32m     27\u001b[0m     \u001b[39m*\u001b[39m\u001b[39m*\u001b[39m\u001b[39mself\u001b[39m\u001b[39m.\u001b[39mparams\n\u001b[1;32m     28\u001b[0m )\n",
                        "\u001b[0;31mAttributeError\u001b[0m: 'MTTTracker' object has no attribute 'max_diffusivity'"
                    ]
                }
            ],
            "source": [
                "tp.process(acq,force_reprocess=True)"
            ]
        },
        {
            "cell_type": "code",
            "execution_count": 31,
            "metadata": {},
            "outputs": [
                {
                    "data": {
                        "text/html": [
                            "<div>\n",
                            "<style scoped>\n",
                            "    .dataframe tbody tr th:only-of-type {\n",
                            "        vertical-align: middle;\n",
                            "    }\n",
                            "\n",
                            "    .dataframe tbody tr th {\n",
                            "        vertical-align: top;\n",
                            "    }\n",
                            "\n",
                            "    .dataframe thead th {\n",
                            "        text-align: right;\n",
                            "    }\n",
                            "</style>\n",
                            "<table border=\"1\" class=\"dataframe\">\n",
                            "  <thead>\n",
                            "    <tr style=\"text-align: right;\">\n",
                            "      <th></th>\n",
                            "      <th>y</th>\n",
                            "      <th>x</th>\n",
                            "      <th>I0</th>\n",
                            "      <th>bg</th>\n",
                            "      <th>y_err</th>\n",
                            "      <th>x_err</th>\n",
                            "      <th>I0_err</th>\n",
                            "      <th>bg_err</th>\n",
                            "      <th>H_det</th>\n",
                            "      <th>error_flag</th>\n",
                            "      <th>snr</th>\n",
                            "      <th>rmse</th>\n",
                            "      <th>n_iter</th>\n",
                            "      <th>y_detect</th>\n",
                            "      <th>x_detect</th>\n",
                            "      <th>frame</th>\n",
                            "      <th>t</th>\n",
                            "      <th>n</th>\n",
                            "    </tr>\n",
                            "  </thead>\n",
                            "  <tbody>\n",
                            "    <tr>\n",
                            "      <th>0</th>\n",
                            "      <td>6.582300</td>\n",
                            "      <td>4.405658</td>\n",
                            "      <td>2588.156773</td>\n",
                            "      <td>229.481235</td>\n",
                            "      <td>0.193045</td>\n",
                            "      <td>0.193101</td>\n",
                            "      <td>94.739182</td>\n",
                            "      <td>5.002356</td>\n",
                            "      <td>295.326456</td>\n",
                            "      <td>0</td>\n",
                            "      <td>324.389658</td>\n",
                            "      <td>43.846684</td>\n",
                            "      <td>10.0</td>\n",
                            "      <td>68.0</td>\n",
                            "      <td>45.0</td>\n",
                            "      <td>0</td>\n",
                            "      <td>0.00</td>\n",
                            "      <td>0</td>\n",
                            "    </tr>\n",
                            "    <tr>\n",
                            "      <th>1</th>\n",
                            "      <td>4.120426</td>\n",
                            "      <td>5.696877</td>\n",
                            "      <td>1214.116699</td>\n",
                            "      <td>218.691789</td>\n",
                            "      <td>0.174472</td>\n",
                            "      <td>0.174410</td>\n",
                            "      <td>77.895864</td>\n",
                            "      <td>2.255731</td>\n",
                            "      <td>23.471315</td>\n",
                            "      <td>0</td>\n",
                            "      <td>116.123533</td>\n",
                            "      <td>18.398970</td>\n",
                            "      <td>10.0</td>\n",
                            "      <td>43.0</td>\n",
                            "      <td>59.0</td>\n",
                            "      <td>1</td>\n",
                            "      <td>0.03</td>\n",
                            "      <td>1</td>\n",
                            "    </tr>\n",
                            "    <tr>\n",
                            "      <th>2</th>\n",
                            "      <td>6.570093</td>\n",
                            "      <td>4.453834</td>\n",
                            "      <td>1640.431434</td>\n",
                            "      <td>229.267773</td>\n",
                            "      <td>0.194981</td>\n",
                            "      <td>0.194963</td>\n",
                            "      <td>88.868977</td>\n",
                            "      <td>3.367126</td>\n",
                            "      <td>115.839402</td>\n",
                            "      <td>0</td>\n",
                            "      <td>168.622322</td>\n",
                            "      <td>28.687795</td>\n",
                            "      <td>10.0</td>\n",
                            "      <td>68.0</td>\n",
                            "      <td>46.0</td>\n",
                            "      <td>2</td>\n",
                            "      <td>0.06</td>\n",
                            "      <td>2</td>\n",
                            "    </tr>\n",
                            "    <tr>\n",
                            "      <th>3</th>\n",
                            "      <td>7.071795</td>\n",
                            "      <td>3.589543</td>\n",
                            "      <td>5456.870991</td>\n",
                            "      <td>175.653199</td>\n",
                            "      <td>0.178903</td>\n",
                            "      <td>0.179397</td>\n",
                            "      <td>98.469162</td>\n",
                            "      <td>9.380361</td>\n",
                            "      <td>864.231395</td>\n",
                            "      <td>0</td>\n",
                            "      <td>1123.999118</td>\n",
                            "      <td>84.083830</td>\n",
                            "      <td>10.0</td>\n",
                            "      <td>73.0</td>\n",
                            "      <td>36.0</td>\n",
                            "      <td>2</td>\n",
                            "      <td>0.06</td>\n",
                            "      <td>3</td>\n",
                            "    </tr>\n",
                            "    <tr>\n",
                            "      <th>4</th>\n",
                            "      <td>1.421944</td>\n",
                            "      <td>4.353109</td>\n",
                            "      <td>805.817099</td>\n",
                            "      <td>200.564218</td>\n",
                            "      <td>0.273095</td>\n",
                            "      <td>0.272910</td>\n",
                            "      <td>80.363217</td>\n",
                            "      <td>2.430550</td>\n",
                            "      <td>177.180313</td>\n",
                            "      <td>0</td>\n",
                            "      <td>46.385226</td>\n",
                            "      <td>20.006585</td>\n",
                            "      <td>10.0</td>\n",
                            "      <td>14.0</td>\n",
                            "      <td>45.0</td>\n",
                            "      <td>3</td>\n",
                            "      <td>0.09</td>\n",
                            "      <td>4</td>\n",
                            "    </tr>\n",
                            "  </tbody>\n",
                            "</table>\n",
                            "</div>"
                        ],
                        "text/plain": [
                            "          y         x           I0          bg     y_err     x_err     I0_err  \\\n",
                            "0  6.582300  4.405658  2588.156773  229.481235  0.193045  0.193101  94.739182   \n",
                            "1  4.120426  5.696877  1214.116699  218.691789  0.174472  0.174410  77.895864   \n",
                            "2  6.570093  4.453834  1640.431434  229.267773  0.194981  0.194963  88.868977   \n",
                            "3  7.071795  3.589543  5456.870991  175.653199  0.178903  0.179397  98.469162   \n",
                            "4  1.421944  4.353109   805.817099  200.564218  0.273095  0.272910  80.363217   \n",
                            "\n",
                            "     bg_err       H_det  error_flag          snr       rmse  n_iter  y_detect  \\\n",
                            "0  5.002356  295.326456           0   324.389658  43.846684    10.0      68.0   \n",
                            "1  2.255731   23.471315           0   116.123533  18.398970    10.0      43.0   \n",
                            "2  3.367126  115.839402           0   168.622322  28.687795    10.0      68.0   \n",
                            "3  9.380361  864.231395           0  1123.999118  84.083830    10.0      73.0   \n",
                            "4  2.430550  177.180313           0    46.385226  20.006585    10.0      14.0   \n",
                            "\n",
                            "   x_detect  frame     t  n  \n",
                            "0      45.0      0  0.00  0  \n",
                            "1      59.0      1  0.03  1  \n",
                            "2      46.0      2  0.06  2  \n",
                            "3      36.0      2  0.06  3  \n",
                            "4      45.0      3  0.09  4  "
                        ]
                    },
                    "execution_count": 31,
                    "metadata": {},
                    "output_type": "execute_result"
                }
            ],
            "source": [
                "# That's it, you've got your localizations !\n",
                "acq.locs.head()"
            ]
        },
        {
            "cell_type": "code",
            "execution_count": 36,
            "metadata": {},
            "outputs": [
                {
                    "data": {
                        "text/plain": [
                            "'/Users/hverdier/palm_tools_data/EXPORT_FOLDER/test/CONDITION A/Experience1/CellZone0/ROI.locs'"
                        ]
                    },
                    "execution_count": 36,
                    "metadata": {},
                    "output_type": "execute_result"
                }
            ],
            "source": [
                "# They're stored here\n",
                "acq.locs_path"
            ]
        },
        {
            "cell_type": "code",
            "execution_count": 33,
            "metadata": {},
            "outputs": [],
            "source": [
                "acq.locs[[\"x\",\"y\"]] = acq.locs[[\"y\",\"x\"]]"
            ]
        },
        {
            "cell_type": "code",
            "execution_count": 37,
            "metadata": {},
            "outputs": [
                {
                    "name": "stderr",
                    "output_type": "stream",
                    "text": [
                        "/Users/hverdier/opt/miniconda3/envs/gratin/lib/python3.8/site-packages/numpy/core/numeric.py:2446: FutureWarning: elementwise comparison failed; returning scalar instead, but in the future will perform elementwise comparison\n",
                        "  return bool(asarray(a1 == a2).all())\n",
                        "/Users/hverdier/opt/miniconda3/envs/gratin/lib/python3.8/site-packages/numpy/core/numeric.py:2446: FutureWarning: elementwise comparison failed; returning scalar instead, but in the future will perform elementwise comparison\n",
                        "  return bool(asarray(a1 == a2).all())\n",
                        "/Users/hverdier/opt/miniconda3/envs/gratin/lib/python3.8/site-packages/numpy/core/numeric.py:2446: FutureWarning: elementwise comparison failed; returning scalar instead, but in the future will perform elementwise comparison\n",
                        "  return bool(asarray(a1 == a2).all())\n"
                    ]
                }
            ],
            "source": [
                "# See localizations and tracks overlayed on the movie in Napari\n",
                "acq.view(min_traj_length=5)"
            ]
        },
        {
            "cell_type": "code",
            "execution_count": 30,
            "metadata": {},
            "outputs": [],
            "source": [
                "# Visualize the effect of each of the pipeline's steps here :\n",
                "TifPipelineWidget.view_pipeline(tp,acq=acq)"
            ]
        },
        {
            "cell_type": "markdown",
            "metadata": {},
            "source": [
                "# Run pipeline on the whole experiment !"
            ]
        },
        {
            "cell_type": "code",
            "execution_count": 9,
            "metadata": {},
            "outputs": [],
            "source": [
                "tp.process(exp)"
            ]
        }
    ],
    "metadata": {
        "interpreter": {
            "hash": "78c676025f604cefd5cc7247c25d6a69f3ae1d56212e75cdfaf6888587dffc1d"
        },
        "kernelspec": {
            "display_name": "Python 3.8.13 ('gratin')",
            "language": "python",
            "name": "python3"
        },
        "language_info": {
            "codemirror_mode": {
                "name": "ipython",
                "version": 3
            },
            "file_extension": ".py",
            "mimetype": "text/x-python",
            "name": "python",
            "nbconvert_exporter": "python",
            "pygments_lexer": "ipython3",
            "version": "3.8.13"
        },
        "orig_nbformat": 4
    },
    "nbformat": 4,
    "nbformat_minor": 2
}
